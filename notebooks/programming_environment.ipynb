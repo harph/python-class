{
 "metadata": {
  "name": "",
  "signature": "sha256:676a60d38e5c22875d10f4ac8eafab29823fb3c15be8efa3f28712467b59a259"
 },
 "nbformat": 3,
 "nbformat_minor": 0,
 "worksheets": [
  {
   "cells": [
    {
     "cell_type": "markdown",
     "metadata": {},
     "source": [
      "Programming Environment\n",
      "===\n",
      "Your \"programming environment\" is the computer you do your work on, and all the software that is installed on your computer that helps you write and run programs. Some systems are better for programming than others, but the best system to learn on is probably the one you are using right now. This section will help you get a system set up that will let you start writing programs quickly."
     ]
    },
    {
     "cell_type": "markdown",
     "metadata": {},
     "source": [
      "[Home](index.ipynb) | \n",
      "[Next: Hello World](hello_world.ipynb)"
     ]
    },
    {
     "cell_type": "markdown",
     "metadata": {},
     "source": [
      "Contents\n",
      "===\n",
      "- [Overview](#overview)\n",
      "- [All Systems](#all_systems)\n",
      "    - [Linux](#linux)\n",
      "    - [Mac](#mac)\n",
      "    - [Windows](#windows)"
     ]
    },
    {
     "cell_type": "markdown",
     "metadata": {},
     "source": [
      "<a name='overview'></a>Overview\n",
      "===\n",
      "Our goal is to help you get Python up and running on your computer, so that you can write and run your own programs. To do this, we want to:\n",
      "\n",
      "- Find out if Python is already installed on your computer.\n",
      "- Install Python, if it is not already installed.\n",
      "- Install Geany, a text editor that will make it easy to run your first programs.\n",
      "- Help you enter and run Hello World, your first Python program.\n",
      "- Congratulate you if it works, and give you some options for troubleshooting if it doesn't work."
     ]
    },
    {
     "cell_type": "markdown",
     "metadata": {},
     "source": [
      "<a name='all_systems'></a>All Systems\n",
      "===\n",
      "We are going to be mostly objective about which system you might want to consider using as you begin to learn Python, but we will also be free to share a bit of opinion on the matter. We will be objective by being open about the strengths and weaknesses of each system. We will be opinionated by letting you know what some good programmers use, and why they use it.\n",
      "\n",
      "If you don't already have a favorite text editor for programming, we are going to use Geany. Geany is cross-platform, and makes it easy to write and run your first programs. There are better editors for professional programmers, but you want to spend your time learning to program, not learning how to use an editor. Unless you have a good reason to use another editor, go ahead and install Geany on your system."
     ]
    },
    {
     "cell_type": "markdown",
     "metadata": {},
     "source": [
      "<a name='linux'></a>Linux\n",
      "---\n",
      "If you already know that you would like to take programming seriously, you might want to consider learning to use Linux. The people who build Linux expect you to program at some point, so they have built the system to make it as easy as possible to get started.\n",
      "\n",
      "Most Linux systems already have Python installed, so we will just verify that it is installed, and then install Geany.\n",
      "\n",
      "[Setting up a Linux system](programming_environment_linux.ipynb)"
     ]
    },
    {
     "cell_type": "markdown",
     "metadata": {},
     "source": [
      "<a name='mac'></a>Mac\n",
      "---\n",
      "If you go to a Python conference or meetup, you are likely to see more Macbooks than any other computer. So Macs are certainly a good platform on which to learn Python. Many of the people you see using Macbooks are actually running some flavor of Linux on their Mac, and running Python within a virtual Linux machine. You don't have to worry about that yet, just know that if you continue to grow as a programmer your Mac will probably continue to serve you quite well.\n",
      "\n",
      "Python is probably already installed on your Mac, so we will just verify that it is installed, and then install Geany.\n",
      "\n",
      "*I don't have a Mac at hand, but a dedicated Mac section will be added shortly.*"
     ]
    },
    {
     "cell_type": "markdown",
     "metadata": {},
     "source": [
      "<a name='windows'></a>Windows\n",
      "---\n",
      "Python does not come pre-installed on most Windows computers, but you can download an installer that will set Python up for you. Once you have Python installed and running, it's pretty straightforward to install Geany, and then configure it to run Python programs.\n",
      "\n",
      "[Setting up a Windows system](programming_environment_windows.ipynb)"
     ]
    },
    {
     "cell_type": "markdown",
     "metadata": {},
     "source": [
      "[top](#)"
     ]
    },
    {
     "cell_type": "markdown",
     "metadata": {},
     "source": [
      "- - -\n",
      "[Home](index.ipynb) | \n",
      "[Next: Hello World](hello_world.ipynb)"
     ]
    },
    {
     "cell_type": "code",
     "collapsed": false,
     "input": [],
     "language": "python",
     "metadata": {},
     "outputs": [],
     "prompt_number": 0
    }
   ],
   "metadata": {}
  }
 ]
}