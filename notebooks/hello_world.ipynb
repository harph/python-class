{
 "metadata": {
  "name": "",
  "signature": "sha256:2bfc2fe3f1a45f3affb646a011c8769f63af681772cc4a6b3ce0001ebeedc7aa"
 },
 "nbformat": 3,
 "nbformat_minor": 0,
 "worksheets": [
  {
   "cells": [
    {
     "cell_type": "markdown",
     "metadata": {},
     "source": [
      "\"Hello world\" in Python\n",
      "===\n",
      "When programmers are learning a new language, we tend to write a one-line program that prints some version of the message \"Hello world!\" this is a simple program that shows whether your computer is properly set up to run Python programs.\n",
      "\n",
      "To run the code below, click into the cell and hit the play(>) button from the toolbar above or user \"Cell\">Run from the menu bar.\n",
      "You can also click into a cell and hit (shift+enter) to run."
     ]
    },
    {
     "cell_type": "code",
     "collapsed": false,
     "input": [
      "print \"Hello Python world!\""
     ],
     "language": "python",
     "metadata": {},
     "outputs": []
    },
    {
     "cell_type": "markdown",
     "metadata": {},
     "source": [
      "If it works, congratulations! You just ran your first Python program."
     ]
    },
    {
     "cell_type": "markdown",
     "metadata": {},
     "source": [
      "- - -\n",
      "[Home](index.ipynb) | \n",
      "[Next: Variables, Strings, and Numbers](var_string_num.ipynb)"
     ]
    }
   ],
   "metadata": {}
  }
 ]
}