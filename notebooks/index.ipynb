{
 "metadata": {
  "name": "",
  "signature": "sha256:558eae859094e4867d1f998bb2805bf7c28dd21f0b839874640a558ac66bbccf"
 },
 "nbformat": 3,
 "nbformat_minor": 0,
 "worksheets": [
  {
   "cells": [
    {
     "cell_type": "markdown",
     "metadata": {},
     "source": [
      "Introduction to Python\n",
      "===\n",
      "This is a resource for students who want to learn Python as their first language. This has been copied over from introtopython.org.\n",
      "\n",
      "If you are viewing the project through IPython Notebook Viewer, you might want to visit the student-facing pages at [introtopython.org](http://introtopython.org). There is a cleaner navigation there, and some better overall styling."
     ]
    },
    {
     "cell_type": "markdown",
     "metadata": {},
     "source": [
      "Start Learning Python\n",
      "---\n",
      "If your computer is already set up to run Python programs, you can get started with [Hello World](hello_world.ipynb), your very first Python program."
     ]
    },
    {
     "cell_type": "markdown",
     "metadata": {},
     "source": [
      "Set Up Your Programming Environment\n",
      "---\n",
      "If your computer is not yet set up to run Python programs, we can show you how to [get Python up and running](http://nbviewer.ipython.org/urls/raw.github.com/ehmatthes/intro_programming/master/notebooks/programming_environment.ipynb)."
     ]
    }
   ],
   "metadata": {}
  }
 ]
}