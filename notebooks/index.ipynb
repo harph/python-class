{
 "metadata": {
  "name": "",
  "signature": "sha256:a0e2851c797311f56673d4c0b0efdda44cd7e76391b75fd45619c193e0ac0dfb"
 },
 "nbformat": 3,
 "nbformat_minor": 0,
 "worksheets": [
  {
   "cells": [
    {
     "cell_type": "markdown",
     "metadata": {},
     "source": [
      "Introduction to Python\n",
      "===\n",
      "Introduction to Python is a resource for students who want to learn Python as their first language, and for teachers who want a free and open curriculum to use with their students.\n",
      "\n",
      "If you are viewing the project through IPython Notebook Viewer, you might want to visit the student-facing pages at [introtopython.org](http://introtopython.org). There is a cleaner navigation there, and some better overall styling."
     ]
    },
    {
     "cell_type": "markdown",
     "metadata": {},
     "source": [
      "Start Learning Python\n",
      "---\n",
      "If your computer is already set up to run Python programs, you can get started with [Hello World](http://nbviewer.ipython.org/urls/raw.github.com/ehmatthes/intro_programming/master/notebooks/hello_world.ipynb), your very first Python program."
     ]
    },
    {
     "cell_type": "markdown",
     "metadata": {},
     "source": [
      "Set Up Your Programming Environment\n",
      "---\n",
      "If your computer is not yet set up to run Python programs, we can show you how to [get Python up and running](http://nbviewer.ipython.org/urls/raw.github.com/ehmatthes/intro_programming/master/notebooks/programming_environment.ipynb)."
     ]
    },
    {
     "cell_type": "markdown",
     "metadata": {},
     "source": [
      "Contents\n",
      "---\n",
      "You can also see the [Contents](http://nbviewer.ipython.org/urls/raw.github.com/ehmatthes/intro_programming/master/notebooks/contents.ipynb) to see what Introduction to Python covers."
     ]
    },
    {
     "cell_type": "markdown",
     "metadata": {},
     "source": [
      "About\n",
      "---\n",
      "I teach high school math and science, and I also teach an Introduction to Programming class each fall. This project started as a series of IPython Notebooks I wrote when teaching this year's programming class."
     ]
    }
   ],
   "metadata": {}
  }
 ]
}