{
 "metadata": {
  "name": "programming_environment_linux"
 },
 "nbformat": 3,
 "nbformat_minor": 0,
 "worksheets": [
  {
   "cells": [
    {
     "cell_type": "markdown",
     "metadata": {},
     "source": [
      "Programming Environment: Linux\n",
      "===\n",
      "This section will show you how to run your first Python program on a Linux computer."
     ]
    },
    {
     "cell_type": "markdown",
     "metadata": {},
     "source": [
      "[Previous: Programming Environment](http://nbviewer.ipython.org/urls/raw.github.com/ehmatthes/intro_programming/master/notebooks/programming_environment.ipynb) | \n",
      "[Home](http://nbviewer.ipython.org/urls/raw.github.com/ehmatthes/intro_programming/master/notebooks/index.ipynb) | \n",
      "[Next: Hello World](http://nbviewer.ipython.org/urls/raw.github.com/ehmatthes/intro_programming/master/notebooks/hello_world.ipynb)"
     ]
    },
    {
     "cell_type": "markdown",
     "metadata": {},
     "source": [
      "Contents\n",
      "===\n",
      "- [Python on Linux](#python_on_linux)\n",
      "- [Installing Python](#installing_python)\n",
      "    - [Installing Python 3](#installing_python_3)\n",
      "- [Installing Geany](#installing_geany)\n",
      "    - [Configuring Geany to use Python 3](#geany_python_3)"
     ]
    },
    {
     "cell_type": "markdown",
     "metadata": {},
     "source": [
      "<a name='python_on_linux'></a>Python on Linux\n",
      "===\n",
      "Congratulations for being a Linux user, or for wanting to learn how to use Linux. Linux developers trust you to do powerful things with your computer, which means modifying your system to write the programs you care to write will be easier. In the Linux world, if something doesn't make sense, find a place to ask your questions. Someone has an answer, you just need to find the right people to answer your questions."
     ]
    },
    {
     "cell_type": "markdown",
     "metadata": {},
     "source": [
      "<a name='installing_python'></a>Installing Python\n",
      "===\n",
      "Python is probably already installed on your system. To find out if it is installed, open a terminal and type the word `python`. You will probably see output something like this:"
     ]
    },
    {
     "cell_type": "markdown",
     "metadata": {},
     "source": [
      "    $ python\n",
      "    Python 2.7.3 (default, Sep 26 2013, 20:03:06) \n",
      "    [GCC 4.6.3] on linux2\n",
      "    Type \"help\", \"copyright\", \"credits\" or \"license\" for more information.\n",
      "    >>> \n"
     ]
    },
    {
     "cell_type": "markdown",
     "metadata": {},
     "source": [
      "From this output, we can see that Python is installed, and the currently installed version is Python 2.7.3. You can start typing Python commands here, and you will see your output immediately:"
     ]
    },
    {
     "cell_type": "markdown",
     "metadata": {},
     "source": [
      "    >>> print(\"Hello Python world!\")\n",
      "    Hello Python world!\n",
      "    >>> "
     ]
    },
    {
     "cell_type": "markdown",
     "metadata": {},
     "source": [
      "<a name='installing_python_3'></a>Installing Python 3\n",
      "---\n",
      "If you want to work with Python 3, you can do so fairly easily. Here is how you can get Python 3 up and running on Ubuntu 12.04:\n",
      "\n",
      "Add the \"deadsnakes\" package archive (ppa) to your system. This archive has a number of older and newer versions of Python, including Python 3.3.\n",
      "\n",
      "    sudo apt-get install python-software-properties\n",
      "    sudo add-apt-repository ppa:fkrull/deadsnakes\n",
      "    sudo apt-get update\n",
      "    sudo apt-get install python3.3\n",
      "\n",
      "Now that Python 3.3 is installed on your system, you have two options. You can start a default Python 2.7 session by running the command 'python' in a terminal. You can start a Python 3.3 session by running the command 'python3.3' in a terminal."
     ]
    },
    {
     "cell_type": "markdown",
     "metadata": {},
     "source": [
      "    $ python3.3\n",
      "    Python 3.3.2 (default, May 16 2013, 18:32:41) \n",
      "    [GCC 4.6.3] on linux\n",
      "    Type \"help\", \"copyright\", \"credits\" or \"license\" for more information.\n",
      "    >>> "
     ]
    },
    {
     "cell_type": "markdown",
     "metadata": {},
     "source": [
      "[top](#)"
     ]
    },
    {
     "cell_type": "markdown",
     "metadata": {},
     "source": [
      "<a name='install_geany'></a>Installing Geany\n",
      "===\n",
      "Geany is a simple text editor, which makes it easy to run Python programs. Output is displayed in a separate terminal window, which gets you used to working in terminals as well."
     ]
    },
    {
     "cell_type": "markdown",
     "metadata": {},
     "source": [
      "- Open a terminal, and install the package 'geany': `sudo apt-get install geany`\n",
      "- Press the windows button, and type 'geany'.\n",
      "- Drag the geany icon to the task bar on the left side of the screen. This creates a shortcut you can use to start geany.\n",
      "- Write a [Hello World](http://nbviewer.ipython.org/urls/raw.github.com/ehmatthes/intro_programming/master/notebooks/hello_world.ipynb) program, and save it as 'hello.py'.\n",
      "- There are three ways you can run a program in Geany:\n",
      "    - Build > Execute\n",
      "    - Press F5\n",
      "    - Click the icon with three gears on it\n",
      "- You should see a terminal window pop up, with your output in it:"
     ]
    },
    {
     "cell_type": "markdown",
     "metadata": {},
     "source": [
      "    Hello Python world!\n",
      "\n",
      "\n",
      "    ------------------\n",
      "    (program exited with code: 0)\n",
      "    Press return to continue\n"
     ]
    },
    {
     "cell_type": "markdown",
     "metadata": {},
     "source": [
      "<a name='geany_python_3'></a>Configuring Geany to use Python 3\n",
      "---\n",
      "If you have installed Python 3 [as described above](#installing_python_3), you may have to configure Geany to use Python 3.\n",
      "\n",
      "Open Geany, and open a Python [Hello World](http://nbviewer.ipython.org/urls/raw.github.com/ehmatthes/intro_programming/master/notebooks/hello_world.ipynb) program. If you don't have one on your system, write one and save it as *hello.py*, and run the program. This makes sure that Geany is trying to run Python programs. When you have a running *hello.py* program, go to Build >> Set Build Commands.\n",
      "\n",
      "Under 'Python commands', look for the 'Compile' line. Enter the following in the 'Command' box. Make sure you get the spaces right. You should have 'python3.3' followed by a space, and the rest of the command. If you have 'python 3.3', with a space between *python* and *3.3*, Geany will not be able to run your code.\n",
      "\n",
      "    python3.3 -m py_compile \"%f\"\n",
      "\n",
      "Under 'Execute commands', look for the 'Execute' line. Enter the following in the 'Command' box, paying attention once again to the spaces.\n",
      "\n",
      "    python3.3 \"%f\"\n",
      "\n",
      "Test your setup by running *hello.py* again."
     ]
    },
    {
     "cell_type": "markdown",
     "metadata": {},
     "source": [
      "[top](#)"
     ]
    },
    {
     "cell_type": "markdown",
     "metadata": {},
     "source": [
      "- - -\n",
      "[Previous: Programming Environment](http://nbviewer.ipython.org/urls/raw.github.com/ehmatthes/intro_programming/master/notebooks/programming_environment.ipynb) | \n",
      "[Home](http://nbviewer.ipython.org/urls/raw.github.com/ehmatthes/intro_programming/master/notebooks/index.ipynb) | \n",
      "[Next: Hello World](http://nbviewer.ipython.org/urls/raw.github.com/ehmatthes/intro_programming/master/notebooks/hello_world.ipynb)"
     ]
    }
   ],
   "metadata": {}
  }
 ]
}